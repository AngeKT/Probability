{
 "cells": [
  {
   "attachments": {},
   "cell_type": "markdown",
   "metadata": {},
   "source": [
    "Here, we will simulate a mixed law about a random variable Z. Here is our situation:\n",
    "     X, Y0, Y1 are random independent variables such as: X follows Bernoulli's law with parameter α, Y0 follows the Poisson law with parameter λ and Y1 follows the geometric law with parameter q. Let's Z = YX."
   ]
  },
  {
   "cell_type": "code",
   "execution_count": 220,
   "metadata": {},
   "outputs": [],
   "source": [
    "import numpy as np"
   ]
  },
  {
   "cell_type": "code",
   "execution_count": 221,
   "metadata": {},
   "outputs": [],
   "source": [
    "def loi_poisson(λ, N = 1000):\n",
    "    p = λ / N\n",
    "    Z = 0 #This is the random variable associated to the Poisson distribution\n",
    "    for i in range(N):\n",
    "        X = np.random.binomial(1, p)\n",
    "        Z += X\n",
    "    return Z\n",
    "\n",
    "def loi_geometrique(p):\n",
    "    count = 1\n",
    "    x = np.random.binomial(1, p)\n",
    "    while x != 1:\n",
    "        count +=1\n",
    "        x = np.random.binomial(1, p)\n",
    "    return count"
   ]
  },
  {
   "cell_type": "code",
   "execution_count": 222,
   "metadata": {},
   "outputs": [],
   "source": [
    "def mixed_law(α, λ, q):\n",
    "    X = np.random.binomial(1, α)\n",
    "    if X == 0:\n",
    "        Z = loi_poisson(λ)\n",
    "    else:\n",
    "        Z = loi_geometrique(q)\n",
    "    return Z"
   ]
  },
  {
   "attachments": {},
   "cell_type": "markdown",
   "metadata": {},
   "source": [
    "Here, let's do a test for the value 5. We will see again that the theorical and pratical frequence is nearly the same."
   ]
  },
  {
   "cell_type": "code",
   "execution_count": 223,
   "metadata": {},
   "outputs": [
    {
     "name": "stdout",
     "output_type": "stream",
     "text": [
      "0.0823920265780731\n"
     ]
    }
   ],
   "source": [
    "nbre_experience = 1505\n",
    "count = 0\n",
    "for i in range(nbre_experience):\n",
    "    Z = mixed_law(0.55, 10, 0.15)\n",
    "    if Z == 10:\n",
    "        count += 1\n",
    "frequence_5 = count / nbre_experience\n",
    "print(frequence_5)\n"
   ]
  },
  {
   "attachments": {},
   "cell_type": "markdown",
   "metadata": {},
   "source": [
    "That is!"
   ]
  }
 ],
 "metadata": {
  "kernelspec": {
   "display_name": "Python 3",
   "language": "python",
   "name": "python3"
  },
  "language_info": {
   "codemirror_mode": {
    "name": "ipython",
    "version": 3
   },
   "file_extension": ".py",
   "mimetype": "text/x-python",
   "name": "python",
   "nbconvert_exporter": "python",
   "pygments_lexer": "ipython3",
   "version": "3.10.6"
  },
  "orig_nbformat": 4
 },
 "nbformat": 4,
 "nbformat_minor": 2
}
