{
 "cells": [
  {
   "attachments": {},
   "cell_type": "markdown",
   "metadata": {},
   "source": [
    "Let's simulate the Poisson distribution with only using the simulation of the Bernoulli law."
   ]
  },
  {
   "cell_type": "code",
   "execution_count": 55,
   "metadata": {},
   "outputs": [],
   "source": [
    "import numpy as np"
   ]
  },
  {
   "cell_type": "code",
   "execution_count": 56,
   "metadata": {},
   "outputs": [],
   "source": [
    "def loi_poisson(λ, N):\n",
    "    p = λ / N\n",
    "    Z = 0 #This is the random variable associated to the Poisson distribution\n",
    "    for i in range(N):\n",
    "        X = np.random.binomial(1, p)\n",
    "        Z += X\n",
    "    return Z\n"
   ]
  },
  {
   "cell_type": "code",
   "execution_count": 57,
   "metadata": {},
   "outputs": [
    {
     "data": {
      "text/plain": [
       "11"
      ]
     },
     "execution_count": 57,
     "metadata": {},
     "output_type": "execute_result"
    }
   ],
   "source": [
    "N = 500\n",
    "λ = 10\n",
    "loi_poisson(λ, N) #Here we see very well that despithe the big number of experience we do, the value of Z is still very low"
   ]
  },
  {
   "attachments": {},
   "cell_type": "markdown",
   "metadata": {},
   "source": [
    "Let's make a test with the values above by calculating the frequence of 10, 9 and 11 and comparing them with the one given theorically by the law of the Poisson distribution"
   ]
  },
  {
   "cell_type": "code",
   "execution_count": 58,
   "metadata": {},
   "outputs": [
    {
     "name": "stdout",
     "output_type": "stream",
     "text": [
      "0.11688311688311688\n",
      "0.13186813186813187\n",
      "0.1018981018981019\n"
     ]
    }
   ],
   "source": [
    "nbre_experience = 1001\n",
    "target_values = [9, 10, 11]\n",
    "l = len(target_values)\n",
    "tableau = [0 for i in range(l)]\n",
    "\n",
    "\n",
    "for i in range(nbre_experience):\n",
    "    Z = loi_poisson(λ, N)\n",
    "    for j in range(l):\n",
    "        if Z == target_values[j]:\n",
    "            tableau[j] += 1\n",
    "            continue\n",
    "\n",
    "frequence_9 = tableau[0] / nbre_experience\n",
    "frequence_10 = tableau[1] / nbre_experience\n",
    "frequence_11 = tableau[2] / nbre_experience\n",
    "\n",
    "print(frequence_9)\n",
    "print(frequence_10)\n",
    "print(frequence_11)\n",
    "#We will notice that these frequences are the same as the ones given theorically. This is an experimental demonstration of the Law of Large Numbers (LLN)"
   ]
  }
 ],
 "metadata": {
  "kernelspec": {
   "display_name": "Python 3",
   "language": "python",
   "name": "python3"
  },
  "language_info": {
   "codemirror_mode": {
    "name": "ipython",
    "version": 3
   },
   "file_extension": ".py",
   "mimetype": "text/x-python",
   "name": "python",
   "nbconvert_exporter": "python",
   "pygments_lexer": "ipython3",
   "version": "3.10.6"
  },
  "orig_nbformat": 4
 },
 "nbformat": 4,
 "nbformat_minor": 2
}
