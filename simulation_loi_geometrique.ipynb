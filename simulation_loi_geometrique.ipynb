{
 "cells": [
  {
   "attachments": {},
   "cell_type": "markdown",
   "metadata": {},
   "source": [
    "Here we want to simulate the geometrical law of a variable with only using np.random.binomial(1, p)."
   ]
  },
  {
   "cell_type": "code",
   "execution_count": 1,
   "metadata": {},
   "outputs": [],
   "source": [
    "import numpy as np"
   ]
  },
  {
   "cell_type": "code",
   "execution_count": 2,
   "metadata": {},
   "outputs": [],
   "source": [
    "def loi_geometrique(p):\n",
    "    count = 1\n",
    "    x = np.random.binomial(1, p)\n",
    "    while x != 1:\n",
    "        count +=1\n",
    "        x = np.random.binomial(1, p)\n",
    "    return count"
   ]
  },
  {
   "cell_type": "code",
   "execution_count": 3,
   "metadata": {},
   "outputs": [
    {
     "name": "stdout",
     "output_type": "stream",
     "text": [
      "0.2502749725027497\n",
      "0.18438156184381563\n",
      "0.13788621137886212\n"
     ]
    }
   ],
   "source": [
    "p = 0.25\n",
    "number = 10001\n",
    "tableau = [0 for i in range(3)]\n",
    "\n",
    "for i in range(number):\n",
    "    minimum_experience = loi_geometrique(p)\n",
    "    if minimum_experience == 1:\n",
    "        tableau[0] += 1\n",
    "    elif minimum_experience == 2:\n",
    "        tableau[1] += 1\n",
    "    elif minimum_experience == 3:\n",
    "        tableau[2] += 1\n",
    "\n",
    "frequence_1 = tableau[0] / number\n",
    "frequence_2 = tableau[1] / number\n",
    "frequence_3 = tableau[2] / number  \n",
    "\n",
    "print(frequence_1)\n",
    "print(frequence_2)\n",
    "print(frequence_3)\n"
   ]
  }
 ],
 "metadata": {
  "kernelspec": {
   "display_name": "Python 3",
   "language": "python",
   "name": "python3"
  },
  "language_info": {
   "codemirror_mode": {
    "name": "ipython",
    "version": 3
   },
   "file_extension": ".py",
   "mimetype": "text/x-python",
   "name": "python",
   "nbconvert_exporter": "python",
   "pygments_lexer": "ipython3",
   "version": "3.10.6"
  },
  "orig_nbformat": 4
 },
 "nbformat": 4,
 "nbformat_minor": 2
}
